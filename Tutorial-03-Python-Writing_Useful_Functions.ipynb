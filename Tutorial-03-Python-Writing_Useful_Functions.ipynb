{
 "cells": [
  {
   "cell_type": "markdown",
   "metadata": {},
   "source": [
    "[Back to Main Menu](https://github.com/sherman6/tutorials/blob/master/README.md#menu)  \n",
    "\n",
    "<a class=\"anchor\" id=\"topmenu\"></a>\n",
    "\n",
    "# Python Tutorial 03:\n",
    "\n",
    "# Writing Useful Functions in Python\n",
    "\n",
    "\n",
    "___\n",
    "\n",
    "_Sherman6,  2020 February_\n",
    "\n",
    "___\n"
   ]
  },
  {
   "cell_type": "markdown",
   "metadata": {},
   "source": [
    "### Key Concepts Covered:  \n",
    "\n",
    "\n",
    "* __[The Basics](#first-bullet)__\n",
    "    * A quick rundown of some function basics  \n",
    "    \n",
    "\n",
    "* __[Global Variables](#second-bullet)__\n",
    "    * The difference between global and local variables, often the answer to: 'Why doesn't my function work?' \n",
    "    \n",
    "    \n",
    "* __[How to Define Global Variables](#third-bullet)__\n",
    "    * How to define global variables, with plenty of examples. \n",
    "    \n",
    "\n",
    "* __[Using Functions in Coordination (\"Useful\" Functions)](#seventh-bullet)__\n",
    "    * Functions are most-useful when used in coordination with each other.  Here's how to call a function from another function  \n",
    "\n",
    "\n",
    "* __[Appendix](#appendix)__\n",
    "    * References, More Resources, & Machine Information \n",
    "    \n",
    "___ "
   ]
  },
  {
   "cell_type": "markdown",
   "metadata": {},
   "source": [
    "### Introduction:\n",
    "\n",
    "\n",
    "Python's popularity continues to grow, with it becoming the #1 language preferred by those holding data science positions in 2019, according to Burtch Works [[1]](#reference).  This is not without good reason: Python is a great language for connecting disparate analytics tools to form a unified production pipeline, with benefits including ease of use, interpretability, an active user community, and the wide array of libraries available for various purposes, the quantity of which continues to grow [[2]](#reference).  And, of course, _it's free!_  \n",
    "\n",
    "\n",
    "___\n",
    "\n",
    "### Purpose:\n",
    "\n",
    "#### In each of these tutorials, I will demonstrate a few tips and tricks which will hopefully help others troubleshoot code in Python.  \n",
    "\n",
    "___\n",
    "\n",
    "\n",
    "One of Python's benefits is that there are often many different ways to achieve something.  However, there are often _even more ways_ one can get stuck trying to figure it out.  \n",
    "\n",
    "In my experience, seeing examples of __\"the wrong way\"__ to code is just as educational as seeing __\"the right way\"__ to code, so in several places I show examples of things that DON'T work, the error messages resulting from them, and why those messages appear. \n",
    "\n",
    "Furthermore, I've spent my fair share of hours [Googling](https://www.google.com), [Stack Overflow-ing](https://stackoverflow.com/), and [GitHub-ing](https://github.com/) to find solutions, as well as a decent amount of time on some very informative and robust free tutorial websites, such as [W3Schools](https://www.w3schools.com/), [TutorialsPoint](https://www.tutorialspoint.com/python/index.htm), and [R-Bloggers](https://www.r-bloggers.com/) (the first that come to mind).  \n",
    "- While there are some great documentation and tutorials out there, I find myself __jumping from one to the next__, until I have __dozens of browser tabs open__, as each focuses _very in-depth_ on a specific command, library, function, or variable type.  \n",
    "\n",
    "\n",
    "- That is why I'm designing these tutorials to be __broad, rather than deep__.  These tutorials are __not designed to be exhaustive__, but rather to help troubleshoot when you get stuck, and share a few helpful tips along the way. \n",
    "\n",
    "\n",
    "\n",
    "A few final comments:\n",
    "\n",
    "- This workbook assumes at least basic familiarity with Python 3 and Jupyter Notebooks.\n",
    "\n",
    "- More advanced topics, such as in-depth examples of DataFrames, and specific nuances for neural network training, will be covered in separate workbooks.  \n",
    "\n",
    "___\n",
    "\n",
    "_Version: 02_   "
   ]
  },
  {
   "cell_type": "code",
   "execution_count": null,
   "metadata": {},
   "outputs": [],
   "source": [
    "#Importing packages:\n",
    "#import numpy as np\n",
    "#import pandas as pd\n",
    "#mport random\n",
    "#import re"
   ]
  },
  {
   "cell_type": "markdown",
   "metadata": {},
   "source": [
    "<a class=\"anchor\" id=\"first-bullet\"></a>\n",
    "___\n",
    "___\n",
    "___\n",
    "\n",
    "## The Basics\n",
    "[Back to Top Menu](#topmenu)  \n",
    "\n",
    "\n",
    "\n",
    "User-defined functions (also known as udf's) have many benefits, such as:  \n",
    "\n",
    "- Reducing the verbosity of your code (making it shorter easier to read) \n",
    "- Enhanced scaleability (doing the same thing many, many times)\n",
    "- Versatility (ability to handle different scenarios without writing specific commands for each) \n",
    "- Accomplishing more, with less (this, basically)\n",
    "\n",
    "\n",
    "Let's go over a few basics, first.  __This is by no means comprehensive.__  \n",
    "\n",
    "_For any python basic troubleshooting, such as working with lists or dataframes, please see Tutorial 1; these will not be described here_.  \n",
    "\n",
    "___\n"
   ]
  },
  {
   "cell_type": "markdown",
   "metadata": {},
   "source": [
    "Let's define a simple function.  "
   ]
  },
  {
   "cell_type": "code",
   "execution_count": 1,
   "metadata": {},
   "outputs": [],
   "source": [
    "def myfunction(input):\n",
    "    output = input + 2\n",
    "    return output"
   ]
  },
  {
   "cell_type": "code",
   "execution_count": 2,
   "metadata": {
    "scrolled": true
   },
   "outputs": [
    {
     "data": {
      "text/plain": [
       "5"
      ]
     },
     "execution_count": 2,
     "metadata": {},
     "output_type": "execute_result"
    }
   ],
   "source": [
    "myfunction(3)"
   ]
  },
  {
   "cell_type": "markdown",
   "metadata": {},
   "source": [
    "Here's another:"
   ]
  },
  {
   "cell_type": "code",
   "execution_count": 3,
   "metadata": {},
   "outputs": [],
   "source": [
    "def concatenate_two_things(input1, input2):\n",
    "    output = input1+\" \"+\"&\"+\" \"+input2\n",
    "    return output"
   ]
  },
  {
   "cell_type": "code",
   "execution_count": 4,
   "metadata": {},
   "outputs": [
    {
     "data": {
      "text/plain": [
       "'Harry & Sally'"
      ]
     },
     "execution_count": 4,
     "metadata": {},
     "output_type": "execute_result"
    }
   ],
   "source": [
    "concatenate_two_things(\"Harry\", \"Sally\")"
   ]
  },
  {
   "cell_type": "code",
   "execution_count": 5,
   "metadata": {},
   "outputs": [
    {
     "data": {
      "text/plain": [
       "'Peanut Butter & Jelly'"
      ]
     },
     "execution_count": 5,
     "metadata": {},
     "output_type": "execute_result"
    }
   ],
   "source": [
    "concatenate_two_things(\"Peanut Butter\", \"Jelly\")"
   ]
  },
  {
   "cell_type": "code",
   "execution_count": 6,
   "metadata": {},
   "outputs": [
    {
     "data": {
      "text/plain": [
       "'Bert & Ernie'"
      ]
     },
     "execution_count": 6,
     "metadata": {},
     "output_type": "execute_result"
    }
   ],
   "source": [
    "concatenate_two_things(\"Bert\", \"Ernie\")"
   ]
  },
  {
   "cell_type": "markdown",
   "metadata": {},
   "source": [
    "As you can see, there are 3 key parts:\n",
    "- `def _____:` : Where you define the name of the function, the inputs it expects to receive, any default parameters, et cetera. \n",
    "\n",
    "\n",
    "- The inner section, where you define the function.  This can be as big or small as you wish. Remember: Indent levels matter!\n",
    "\n",
    "\n",
    "- `return` : Where you specify what you want to be returned from that function.  You could call this the \"output\", but don't be misled - a function can function (pun) even if this is not specified.  More on that, below.  \n",
    "\n",
    "For example, here's what would happen if you __didn't__ specify a `return` argument in the above function. \n"
   ]
  },
  {
   "cell_type": "code",
   "execution_count": 7,
   "metadata": {},
   "outputs": [],
   "source": [
    "x = 10"
   ]
  },
  {
   "cell_type": "code",
   "execution_count": 8,
   "metadata": {},
   "outputs": [],
   "source": [
    "def myfunction(input):\n",
    "    input + 2"
   ]
  },
  {
   "cell_type": "code",
   "execution_count": 9,
   "metadata": {
    "scrolled": true
   },
   "outputs": [
    {
     "name": "stdout",
     "output_type": "stream",
     "text": [
      "None\n",
      "10\n"
     ]
    }
   ],
   "source": [
    "print(myfunction(x))\n",
    "print(x)"
   ]
  },
  {
   "cell_type": "markdown",
   "metadata": {},
   "source": [
    "Nothing happened. "
   ]
  },
  {
   "cell_type": "code",
   "execution_count": 10,
   "metadata": {},
   "outputs": [
    {
     "name": "stdout",
     "output_type": "stream",
     "text": [
      "None\n"
     ]
    }
   ],
   "source": [
    "z = myfunction(3)\n",
    "print(z)"
   ]
  },
  {
   "cell_type": "markdown",
   "metadata": {},
   "source": [
    "Nothing happened. "
   ]
  },
  {
   "cell_type": "markdown",
   "metadata": {},
   "source": [
    "As mentioned, a function __can still__ generate an output & perform an action on an object even if you don't specify it to 'return' anything, of course, but that leads us into the next topic. \n"
   ]
  },
  {
   "cell_type": "markdown",
   "metadata": {},
   "source": [
    "<a class=\"anchor\" id=\"second-bullet\"></a>\n",
    "___\n",
    "___\n",
    "___\n",
    "\n",
    "## Global Variables\n",
    "[Back to Top Menu](#topmenu)  \n",
    "\n"
   ]
  },
  {
   "cell_type": "markdown",
   "metadata": {},
   "source": [
    "That's right, variables can be __worldwide__ (like [Pitbull](https://open.spotify.com/playlist/5HOXE1APnmH5hFvUM35YH5)).  \n",
    "\n",
    "This is distinguished from __\"local\"__ variables that __only exist within the function itself__.  Local variables are temporary - they only exist while the function is acting, and cannot be retrieved by other functions after it ceases. \n",
    "\n",
    "- That is a shame, because look how little time our earlier function takes to complete:"
   ]
  },
  {
   "cell_type": "code",
   "execution_count": 11,
   "metadata": {},
   "outputs": [
    {
     "name": "stdout",
     "output_type": "stream",
     "text": [
      "CPU times: user 2 µs, sys: 1 µs, total: 3 µs\n",
      "Wall time: 3.58 µs\n"
     ]
    }
   ],
   "source": [
    "%time\n",
    "myfunction(1)"
   ]
  },
  {
   "cell_type": "markdown",
   "metadata": {},
   "source": [
    "- 3 µs is pretty fast.  My point is, 'output' is created, then 'poof', it's gone.  \n",
    "\n",
    "___  "
   ]
  },
  {
   "cell_type": "markdown",
   "metadata": {},
   "source": [
    "Local variables can only be accessed by the function within which they are defined.  \n",
    "\n",
    "This means that you can't call a local variable of function A from within function A.  "
   ]
  },
  {
   "cell_type": "code",
   "execution_count": 12,
   "metadata": {},
   "outputs": [],
   "source": [
    "def function(b):\n",
    "    a = 4\n",
    "    sumvariable = a+b\n",
    "    return sumvariable"
   ]
  },
  {
   "cell_type": "code",
   "execution_count": 13,
   "metadata": {},
   "outputs": [
    {
     "data": {
      "text/plain": [
       "14"
      ]
     },
     "execution_count": 13,
     "metadata": {},
     "output_type": "execute_result"
    }
   ],
   "source": [
    "function(10)"
   ]
  },
  {
   "cell_type": "markdown",
   "metadata": {},
   "source": [
    "In the above function, \n",
    "- We assign 'b' as 10. \n",
    "- 'a' is a local variable. "
   ]
  },
  {
   "cell_type": "code",
   "execution_count": 14,
   "metadata": {
    "scrolled": true
   },
   "outputs": [
    {
     "ename": "NameError",
     "evalue": "name 'sumvariable' is not defined",
     "output_type": "error",
     "traceback": [
      "\u001b[0;31m---------------------------------------------------------------------------\u001b[0m",
      "\u001b[0;31mNameError\u001b[0m                                 Traceback (most recent call last)",
      "\u001b[0;32m<ipython-input-14-d0c2e4a124bf>\u001b[0m in \u001b[0;36m<module>\u001b[0;34m\u001b[0m\n\u001b[0;32m----> 1\u001b[0;31m \u001b[0msumvariable\u001b[0m\u001b[0;34m\u001b[0m\u001b[0;34m\u001b[0m\u001b[0m\n\u001b[0m",
      "\u001b[0;31mNameError\u001b[0m: name 'sumvariable' is not defined"
     ]
    }
   ],
   "source": [
    "sumvariable"
   ]
  },
  {
   "cell_type": "markdown",
   "metadata": {},
   "source": [
    "Takeaway: __it doesn't exist__."
   ]
  },
  {
   "cell_type": "code",
   "execution_count": 15,
   "metadata": {},
   "outputs": [
    {
     "ename": "NameError",
     "evalue": "name 'a' is not defined",
     "output_type": "error",
     "traceback": [
      "\u001b[0;31m---------------------------------------------------------------------------\u001b[0m",
      "\u001b[0;31mNameError\u001b[0m                                 Traceback (most recent call last)",
      "\u001b[0;32m<ipython-input-15-3f786850e387>\u001b[0m in \u001b[0;36m<module>\u001b[0;34m\u001b[0m\n\u001b[0;32m----> 1\u001b[0;31m \u001b[0ma\u001b[0m\u001b[0;34m\u001b[0m\u001b[0;34m\u001b[0m\u001b[0m\n\u001b[0m",
      "\u001b[0;31mNameError\u001b[0m: name 'a' is not defined"
     ]
    }
   ],
   "source": [
    "a"
   ]
  },
  {
   "cell_type": "markdown",
   "metadata": {},
   "source": [
    "As you can see, this variable doesn't exist outside of it's (very) temporary existence within the function.  "
   ]
  },
  {
   "cell_type": "markdown",
   "metadata": {},
   "source": [
    "___\n",
    "Similarly, local variables cannot overwrite global ones with the same name. "
   ]
  },
  {
   "cell_type": "code",
   "execution_count": 16,
   "metadata": {},
   "outputs": [
    {
     "name": "stdout",
     "output_type": "stream",
     "text": [
      "5\n"
     ]
    }
   ],
   "source": [
    "a=5\n",
    "print(a)"
   ]
  },
  {
   "cell_type": "code",
   "execution_count": 17,
   "metadata": {},
   "outputs": [],
   "source": [
    "def function(input):\n",
    "    a = 100\n",
    "    sumvariable = input+a\n",
    "    return sumvariable"
   ]
  },
  {
   "cell_type": "code",
   "execution_count": 18,
   "metadata": {},
   "outputs": [
    {
     "data": {
      "text/plain": [
       "101"
      ]
     },
     "execution_count": 18,
     "metadata": {},
     "output_type": "execute_result"
    }
   ],
   "source": [
    "function(1)"
   ]
  },
  {
   "cell_type": "code",
   "execution_count": 19,
   "metadata": {},
   "outputs": [
    {
     "name": "stdout",
     "output_type": "stream",
     "text": [
      "5\n"
     ]
    }
   ],
   "source": [
    "print(a)"
   ]
  },
  {
   "cell_type": "markdown",
   "metadata": {},
   "source": [
    "As we can see, when we print 'a', we get the object that we defined prior to writing the function (a=5), NOT the value 'a=100', which was defined within the function itself. This is because in the above example, the object 'a' within the function is NOT global, while the object 'a' outside of the function IS global. "
   ]
  },
  {
   "cell_type": "markdown",
   "metadata": {},
   "source": [
    "Another example:"
   ]
  },
  {
   "cell_type": "code",
   "execution_count": 20,
   "metadata": {},
   "outputs": [
    {
     "name": "stdout",
     "output_type": "stream",
     "text": [
      "parameter 1\n"
     ]
    }
   ],
   "source": [
    "sumvariable=\"parameter 1\"\n",
    "print(sumvariable)"
   ]
  },
  {
   "cell_type": "code",
   "execution_count": 21,
   "metadata": {},
   "outputs": [],
   "source": [
    "def function(input):\n",
    "    a = 100\n",
    "    sumvariable = input+a\n",
    "    return sumvariable"
   ]
  },
  {
   "cell_type": "code",
   "execution_count": 22,
   "metadata": {},
   "outputs": [
    {
     "data": {
      "text/plain": [
       "101"
      ]
     },
     "execution_count": 22,
     "metadata": {},
     "output_type": "execute_result"
    }
   ],
   "source": [
    "function(1)"
   ]
  },
  {
   "cell_type": "code",
   "execution_count": 23,
   "metadata": {},
   "outputs": [
    {
     "name": "stdout",
     "output_type": "stream",
     "text": [
      "parameter 1\n"
     ]
    }
   ],
   "source": [
    "print(sumvariable)"
   ]
  },
  {
   "cell_type": "markdown",
   "metadata": {},
   "source": [
    "<a class=\"anchor\" id=\"third-bullet\"></a>\n",
    "___\n",
    "___\n",
    "___\n",
    "\n",
    "## How to Define Global Variables:  \n",
    "[Back to Top Menu](#topmenu)  \n",
    "\n"
   ]
  },
  {
   "cell_type": "code",
   "execution_count": 24,
   "metadata": {},
   "outputs": [],
   "source": [
    "def function(input):\n",
    "    global sumvariable\n",
    "    a = 100\n",
    "    sumvariable = input+a\n",
    "    return sumvariable"
   ]
  },
  {
   "cell_type": "code",
   "execution_count": 25,
   "metadata": {},
   "outputs": [
    {
     "data": {
      "text/plain": [
       "101"
      ]
     },
     "execution_count": 25,
     "metadata": {},
     "output_type": "execute_result"
    }
   ],
   "source": [
    "function(1)"
   ]
  },
  {
   "cell_type": "code",
   "execution_count": 26,
   "metadata": {
    "scrolled": false
   },
   "outputs": [
    {
     "name": "stdout",
     "output_type": "stream",
     "text": [
      "101\n"
     ]
    }
   ],
   "source": [
    "print(sumvariable)"
   ]
  },
  {
   "cell_type": "markdown",
   "metadata": {},
   "source": [
    "We just created a new global variable, `sumvariable`, by adding the word 'global' in front of it, prior to performing any action on it or assigning it.  \n",
    "\n",
    "It not only exists outside the function, but it will overwrite any object of the same name that previously existed outside of the function (if it is assigned within the function). \n",
    "\n",
    "- This becomes very important when using nested functions, or functions within functions, or otherwise having a function call another function.  "
   ]
  },
  {
   "cell_type": "markdown",
   "metadata": {},
   "source": [
    "#### Example WITH 'global':"
   ]
  },
  {
   "cell_type": "code",
   "execution_count": 27,
   "metadata": {},
   "outputs": [],
   "source": [
    "sumvariable = 10"
   ]
  },
  {
   "cell_type": "code",
   "execution_count": 28,
   "metadata": {},
   "outputs": [],
   "source": [
    "def function(input):\n",
    "    global sumvariable\n",
    "    a = 100\n",
    "    sumvariable = input+a\n",
    "    return sumvariable"
   ]
  },
  {
   "cell_type": "code",
   "execution_count": 29,
   "metadata": {},
   "outputs": [
    {
     "data": {
      "text/plain": [
       "110"
      ]
     },
     "execution_count": 29,
     "metadata": {},
     "output_type": "execute_result"
    }
   ],
   "source": [
    "function(sumvariable)"
   ]
  },
  {
   "cell_type": "code",
   "execution_count": 30,
   "metadata": {
    "scrolled": false
   },
   "outputs": [
    {
     "name": "stdout",
     "output_type": "stream",
     "text": [
      "110\n"
     ]
    }
   ],
   "source": [
    "print(sumvariable)"
   ]
  },
  {
   "cell_type": "markdown",
   "metadata": {},
   "source": [
    "As we can see, the global object 'sumvariable', which originally was '10', took on a new value (110) after being modified by the function (where it was named as a global variable). "
   ]
  },
  {
   "cell_type": "markdown",
   "metadata": {},
   "source": [
    "#### Example WITHOUT 'global':"
   ]
  },
  {
   "cell_type": "code",
   "execution_count": 31,
   "metadata": {},
   "outputs": [],
   "source": [
    "sumvariable = 10"
   ]
  },
  {
   "cell_type": "code",
   "execution_count": 32,
   "metadata": {},
   "outputs": [],
   "source": [
    "def function(input):\n",
    "    a = 100\n",
    "    sumvariable = input+a\n",
    "    return sumvariable"
   ]
  },
  {
   "cell_type": "code",
   "execution_count": 33,
   "metadata": {},
   "outputs": [
    {
     "data": {
      "text/plain": [
       "110"
      ]
     },
     "execution_count": 33,
     "metadata": {},
     "output_type": "execute_result"
    }
   ],
   "source": [
    "function(sumvariable)"
   ]
  },
  {
   "cell_type": "code",
   "execution_count": 34,
   "metadata": {
    "scrolled": true
   },
   "outputs": [
    {
     "name": "stdout",
     "output_type": "stream",
     "text": [
      "10\n"
     ]
    }
   ],
   "source": [
    "print(sumvariable)"
   ]
  },
  {
   "cell_type": "markdown",
   "metadata": {},
   "source": [
    "In the above example, the value of the global object 'sumvariable' never changed from it's original value of '10', because the object 'sumvariable' which existed onlyy within the function was not specified as being 'global'.  "
   ]
  },
  {
   "cell_type": "markdown",
   "metadata": {},
   "source": [
    "#### One last example:  "
   ]
  },
  {
   "cell_type": "code",
   "execution_count": 35,
   "metadata": {},
   "outputs": [],
   "source": [
    "def function(b):\n",
    "    global c\n",
    "    global d\n",
    "    global e\n",
    "    c=123\n",
    "    d=\"I exist!\"\n",
    "    e=[]\n",
    "    sumvar = 4+b\n",
    "    return sumvar"
   ]
  },
  {
   "cell_type": "code",
   "execution_count": 36,
   "metadata": {},
   "outputs": [
    {
     "data": {
      "text/plain": [
       "9"
      ]
     },
     "execution_count": 36,
     "metadata": {},
     "output_type": "execute_result"
    }
   ],
   "source": [
    "function(5)"
   ]
  },
  {
   "cell_type": "code",
   "execution_count": 37,
   "metadata": {},
   "outputs": [
    {
     "data": {
      "text/plain": [
       "123"
      ]
     },
     "execution_count": 37,
     "metadata": {},
     "output_type": "execute_result"
    }
   ],
   "source": [
    "c"
   ]
  },
  {
   "cell_type": "code",
   "execution_count": 38,
   "metadata": {},
   "outputs": [
    {
     "data": {
      "text/plain": [
       "'I exist!'"
      ]
     },
     "execution_count": 38,
     "metadata": {},
     "output_type": "execute_result"
    }
   ],
   "source": [
    "d"
   ]
  },
  {
   "cell_type": "code",
   "execution_count": 39,
   "metadata": {},
   "outputs": [
    {
     "data": {
      "text/plain": [
       "[]"
      ]
     },
     "execution_count": 39,
     "metadata": {},
     "output_type": "execute_result"
    }
   ],
   "source": [
    "e"
   ]
  },
  {
   "cell_type": "markdown",
   "metadata": {},
   "source": [
    "As we can see, our global variable `e` is blank, but it DOES exist (having been created when we ran the line of code, `function(5)` )."
   ]
  },
  {
   "cell_type": "markdown",
   "metadata": {},
   "source": [
    "<a class=\"anchor\" id=\"seventh-bullet\"></a>\n",
    "___\n",
    "___\n",
    "___\n",
    "\n",
    "## Using Functions in Coordination (\"Useful\" Functions)\n",
    "\n",
    "[Back to Top Menu](#topmenu)  \n",
    "\n",
    "\n",
    "Let's review some of the key benefits of using functions:  \n",
    "\n",
    "\n",
    "- Reducing the verbosity of your code  \n",
    "- Enhanced scaleability  \n",
    "- Versatility \n",
    "- Accomplishing more, with less \n",
    "\n",
    "In my experience, functions are most-useful (that is, most-helpful at acheiving the aforemented goals) when they are used __in coordination with each other__.\n",
    "\n",
    "\n",
    "\n",
    "___"
   ]
  },
  {
   "cell_type": "code",
   "execution_count": 40,
   "metadata": {},
   "outputs": [],
   "source": [
    "del(sumvariable) #delete it to wipe it off the environment, first. \n",
    "#now, it no longer exists."
   ]
  },
  {
   "cell_type": "code",
   "execution_count": 41,
   "metadata": {},
   "outputs": [],
   "source": [
    "def function(input):\n",
    "    global sumvariable\n",
    "    sumvariable = input+100\n",
    "    return sumvariable"
   ]
  },
  {
   "cell_type": "code",
   "execution_count": 42,
   "metadata": {},
   "outputs": [
    {
     "data": {
      "text/plain": [
       "101"
      ]
     },
     "execution_count": 42,
     "metadata": {},
     "output_type": "execute_result"
    }
   ],
   "source": [
    "function(1)"
   ]
  },
  {
   "cell_type": "code",
   "execution_count": 43,
   "metadata": {},
   "outputs": [],
   "source": [
    "def func2(x):\n",
    "    return x+sumvariable"
   ]
  },
  {
   "cell_type": "code",
   "execution_count": 44,
   "metadata": {},
   "outputs": [
    {
     "data": {
      "text/plain": [
       "1101"
      ]
     },
     "execution_count": 44,
     "metadata": {},
     "output_type": "execute_result"
    }
   ],
   "source": [
    "func2(1000)"
   ]
  },
  {
   "cell_type": "markdown",
   "metadata": {},
   "source": [
    "As we can see, we can now call the output of one function from another function.  "
   ]
  },
  {
   "cell_type": "markdown",
   "metadata": {},
   "source": [
    "___\n",
    "\n",
    "As mentioned, we don't need to specify __return__, in this case. "
   ]
  },
  {
   "cell_type": "code",
   "execution_count": 45,
   "metadata": {},
   "outputs": [],
   "source": [
    "del(sumvariable) #delete it to wipe it off the environment, first. \n",
    "#now, it no longer exists."
   ]
  },
  {
   "cell_type": "code",
   "execution_count": 46,
   "metadata": {},
   "outputs": [],
   "source": [
    "def function(input):\n",
    "    global sumvariable\n",
    "    sumvariable = input+100"
   ]
  },
  {
   "cell_type": "code",
   "execution_count": 47,
   "metadata": {},
   "outputs": [],
   "source": [
    "function(1)"
   ]
  },
  {
   "cell_type": "code",
   "execution_count": 48,
   "metadata": {},
   "outputs": [
    {
     "data": {
      "text/plain": [
       "101"
      ]
     },
     "execution_count": 48,
     "metadata": {},
     "output_type": "execute_result"
    }
   ],
   "source": [
    "sumvariable"
   ]
  },
  {
   "cell_type": "code",
   "execution_count": 49,
   "metadata": {},
   "outputs": [],
   "source": [
    "def func2(x):\n",
    "    return function(x)"
   ]
  },
  {
   "cell_type": "code",
   "execution_count": 50,
   "metadata": {},
   "outputs": [],
   "source": [
    "func2(1000)"
   ]
  },
  {
   "cell_type": "code",
   "execution_count": 51,
   "metadata": {},
   "outputs": [
    {
     "data": {
      "text/plain": [
       "1100"
      ]
     },
     "execution_count": 51,
     "metadata": {},
     "output_type": "execute_result"
    }
   ],
   "source": [
    "sumvariable"
   ]
  },
  {
   "cell_type": "markdown",
   "metadata": {},
   "source": [
    "<a class=\"anchor\" id=\"appendix\"></a>\n",
    "___\n",
    "\n",
    "# Appendix:\n",
    "\n",
    "[Back to Top Menu](#topmenu)  \n",
    "\n",
    "\n",
    "___"
   ]
  },
  {
   "cell_type": "markdown",
   "metadata": {},
   "source": [
    "<a class=\"anchor\" id=\"reference\"></a>\n",
    "\n",
    "### References:\n",
    "\n",
    "[1] https://www.burtchworks.com/2019/08/21/2019-sas-r-or-python-survey-update-which-tool-do-data-scientists-analytics-pros-prefer/\n",
    "\n",
    "[2]  https://www.burtchworks.com/2019/12/10/metis-data-scientists-on-pythons-advantages-growing-popularity/\n"
   ]
  },
  {
   "cell_type": "markdown",
   "metadata": {},
   "source": [
    "### More Resources:\n",
    "\n",
    "- https://www.tutorialspoint.com/python/python_functions.htm\n",
    "    - A pretty thorough tutorial on defining functions in Python. \n",
    "- http://anh.cs.luc.edu/python/hands-on/3.1/handsonHtml/functions.html\n",
    "    - A helpful and also very thorough hands-on tutorial for writing functions on your own, from the Computer Science Department at Loyola University Chicago. \n",
    "- http://anh.cs.luc.edu/python/hands-on/3.1/handsonHtml/index.html\n",
    "    - The full, very thorough and deep hands-on Python 3 tutorial from the Computer Science Department at Loyola University Chicago. \n"
   ]
  },
  {
   "cell_type": "markdown",
   "metadata": {},
   "source": [
    "### Machine Information:  \n",
    "\n",
    "This workbook was run on... "
   ]
  },
  {
   "cell_type": "code",
   "execution_count": 52,
   "metadata": {},
   "outputs": [
    {
     "name": "stdout",
     "output_type": "stream",
     "text": [
      "3.7.3 (default, Mar 27 2019, 22:11:17) \n",
      "[GCC 7.3.0]\n"
     ]
    }
   ],
   "source": [
    "#Python Version:\n",
    "import sys\n",
    "print(sys.version)"
   ]
  },
  {
   "cell_type": "code",
   "execution_count": 53,
   "metadata": {},
   "outputs": [
    {
     "data": {
      "text/plain": [
       "'Fri, 28 February 2020 19:25:19'"
      ]
     },
     "execution_count": 53,
     "metadata": {},
     "output_type": "execute_result"
    }
   ],
   "source": [
    "#Timestamp:\n",
    "import datetime\n",
    "datetime.datetime.now().strftime(\"%a, %d %B %Y %H:%M:%S\")"
   ]
  },
  {
   "cell_type": "code",
   "execution_count": 54,
   "metadata": {
    "scrolled": false
   },
   "outputs": [
    {
     "name": "stdout",
     "output_type": "stream",
     "text": [
      "posix\n",
      "linux\n"
     ]
    }
   ],
   "source": [
    "#Operating System:\n",
    "import os\n",
    "print(os.name)\n",
    "print(sys.platform)"
   ]
  },
  {
   "cell_type": "markdown",
   "metadata": {},
   "source": [
    "\n",
    "___\n",
    "\n",
    "_Sherman6,  2020 February_\n",
    "\n",
    "___\n"
   ]
  }
 ],
 "metadata": {
  "kernelspec": {
   "display_name": "Python 3",
   "language": "python",
   "name": "python3"
  },
  "language_info": {
   "codemirror_mode": {
    "name": "ipython",
    "version": 3
   },
   "file_extension": ".py",
   "mimetype": "text/x-python",
   "name": "python",
   "nbconvert_exporter": "python",
   "pygments_lexer": "ipython3",
   "version": "3.7.3"
  }
 },
 "nbformat": 4,
 "nbformat_minor": 2
}
