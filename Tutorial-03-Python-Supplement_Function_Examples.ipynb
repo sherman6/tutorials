{
 "cells": [
  {
   "cell_type": "markdown",
   "metadata": {},
   "source": [
    "[Back to Main Menu](https://github.com/sherman6/tutorials/blob/master/README.md#menu)  \n",
    "\n",
    "<a class=\"anchor\" id=\"topmenu\"></a>\n",
    "\n",
    "### Python Tutorial 3 Supplement - Functions examples\n",
    "\n",
    "\n",
    "\n",
    "_Sherman6,  2020 April_\n",
    "\n"
   ]
  },
  {
   "cell_type": "markdown",
   "metadata": {},
   "source": [
    "Here are a few examples of customized functions, illustrating the concepts discussed in [Tutorial 3](https://github.com/sherman6/tutorials/blob/master/README.md#menu). \n",
    "\n",
    "___"
   ]
  },
  {
   "cell_type": "markdown",
   "metadata": {},
   "source": [
    "# 1."
   ]
  },
  {
   "cell_type": "markdown",
   "metadata": {},
   "source": [
    "A function to get us probability based upon a logit, which is the log of the odds, (p / (1-p))."
   ]
  },
  {
   "cell_type": "code",
   "execution_count": 1,
   "metadata": {},
   "outputs": [],
   "source": [
    "import numpy as np"
   ]
  },
  {
   "cell_type": "code",
   "execution_count": 2,
   "metadata": {},
   "outputs": [],
   "source": [
    "def get_probability_from_logit(x):\n",
    "    return np.exp(x) / (1 + np.exp(x))"
   ]
  },
  {
   "cell_type": "markdown",
   "metadata": {},
   "source": [
    "Testing this:"
   ]
  },
  {
   "cell_type": "code",
   "execution_count": 3,
   "metadata": {},
   "outputs": [],
   "source": [
    "x = 4.281924467"
   ]
  },
  {
   "cell_type": "code",
   "execution_count": 4,
   "metadata": {
    "scrolled": false
   },
   "outputs": [
    {
     "data": {
      "text/plain": [
       "0.9863722339124936"
      ]
     },
     "execution_count": 4,
     "metadata": {},
     "output_type": "execute_result"
    }
   ],
   "source": [
    "get_probability_from_logit(x)"
   ]
  },
  {
   "cell_type": "markdown",
   "metadata": {},
   "source": [
    "___\n",
    "\n",
    "# 2."
   ]
  },
  {
   "cell_type": "markdown",
   "metadata": {},
   "source": [
    "\n",
    "A function to put words together in natural language:\n",
    "\n",
    "Let's start simple, and build our way up to something more complex.  "
   ]
  },
  {
   "cell_type": "code",
   "execution_count": 5,
   "metadata": {},
   "outputs": [],
   "source": [
    "xlist = [\"Sally\",\"Truman\",\"Jim\",\"Peggy\"] #example list"
   ]
  },
  {
   "cell_type": "markdown",
   "metadata": {},
   "source": [
    "Our first try is a simple way, `.join()`, which is good for strings, but does not mimick natural language for lists.  It would sounds strange for a person to list names either of the following ways."
   ]
  },
  {
   "cell_type": "code",
   "execution_count": 6,
   "metadata": {},
   "outputs": [
    {
     "data": {
      "text/plain": [
       "'Sally & Truman & Jim & Peggy.'"
      ]
     },
     "execution_count": 6,
     "metadata": {},
     "output_type": "execute_result"
    }
   ],
   "source": [
    "\" & \".join(xlist)+\".\""
   ]
  },
  {
   "cell_type": "code",
   "execution_count": 7,
   "metadata": {
    "scrolled": true
   },
   "outputs": [
    {
     "data": {
      "text/plain": [
       "'Sally, Truman, Jim, Peggy.'"
      ]
     },
     "execution_count": 7,
     "metadata": {},
     "output_type": "execute_result"
    }
   ],
   "source": [
    "\", \".join(xlist)+\".\""
   ]
  },
  {
   "cell_type": "markdown",
   "metadata": {},
   "source": [
    "Our next method is a bit more complex, however, it is also not quite right. It does not succeed in mimicking natural language, because it adds an 'and' after every single name, even the last one."
   ]
  },
  {
   "cell_type": "code",
   "execution_count": 8,
   "metadata": {},
   "outputs": [],
   "source": [
    "def concatenate_names_simple(list_of_names):\n",
    "    \"\"\"This function joins names from a list together very crudely, forming a string.\"\"\"\n",
    "    output = \"\"\n",
    "    for i in list_of_names:\n",
    "        output = i + \" \"+\"&\"+\" \" +output\n",
    "    return output"
   ]
  },
  {
   "cell_type": "code",
   "execution_count": 9,
   "metadata": {
    "scrolled": true
   },
   "outputs": [
    {
     "data": {
      "text/plain": [
       "'Peggy & Jim & Truman & Sally & '"
      ]
     },
     "execution_count": 9,
     "metadata": {},
     "output_type": "execute_result"
    }
   ],
   "source": [
    "concatenate_names_simple(xlist)"
   ]
  },
  {
   "cell_type": "markdown",
   "metadata": {},
   "source": [
    "The following method joins words together in the way that sounds like an English-speaking person is actually saying it.  It there are more than two names, it separates each name by commas, and adds an 'and' prior to the final name in the list. This language is very natural. \n",
    "\n",
    "Furthermore...    \n",
    "- if only 1 name in the list, it just says 1 name. \n",
    "- if two names, it separates them by 'and', without a comma (is more natural this way)."
   ]
  },
  {
   "cell_type": "code",
   "execution_count": 10,
   "metadata": {},
   "outputs": [],
   "source": [
    "def concatenate_names_naturally(list_of_names):\n",
    "    \n",
    "    \"\"\"This function joins names from a list together in a natural language string.\"\"\"\n",
    "    \n",
    "    listlength = len(list_of_names)\n",
    "  \n",
    "    if listlength ==0:\n",
    "        output = \"This list contains no names.\"\n",
    "\n",
    "    elif listlength ==1:\n",
    "        output = \"This list contains 1 name: \"+list_of_names[0]+\".\"\n",
    "\n",
    "    elif listlength ==2: \n",
    "        output = \"This list contains \"+list_of_names[0]+\" & \"+list_of_names[1]+\".\"\n",
    "        \n",
    "    elif listlength > 2:\n",
    "        output = \"This list contains \"\n",
    "        names_except_last = list_of_names[0:-1]\n",
    "        output = output + \", \".join(names_except_last)\n",
    "        final_name = \", & \"+ list_of_names[-1]+\".\"\n",
    "        output = output + final_name\n",
    "            \n",
    "    return output"
   ]
  },
  {
   "cell_type": "markdown",
   "metadata": {},
   "source": [
    "Testing this, it works:"
   ]
  },
  {
   "cell_type": "code",
   "execution_count": 11,
   "metadata": {},
   "outputs": [],
   "source": [
    "xlist = [] #example list"
   ]
  },
  {
   "cell_type": "code",
   "execution_count": 12,
   "metadata": {
    "scrolled": false
   },
   "outputs": [
    {
     "data": {
      "text/plain": [
       "'This list contains no names.'"
      ]
     },
     "execution_count": 12,
     "metadata": {},
     "output_type": "execute_result"
    }
   ],
   "source": [
    "concatenate_names_naturally(xlist)"
   ]
  },
  {
   "cell_type": "code",
   "execution_count": 13,
   "metadata": {},
   "outputs": [],
   "source": [
    "xlist = [\"Sally\"] #example list"
   ]
  },
  {
   "cell_type": "code",
   "execution_count": 14,
   "metadata": {
    "scrolled": true
   },
   "outputs": [
    {
     "data": {
      "text/plain": [
       "'This list contains 1 name: Sally.'"
      ]
     },
     "execution_count": 14,
     "metadata": {},
     "output_type": "execute_result"
    }
   ],
   "source": [
    "concatenate_names_naturally(xlist)"
   ]
  },
  {
   "cell_type": "code",
   "execution_count": 15,
   "metadata": {},
   "outputs": [],
   "source": [
    "xlist = [\"Sally\", \"Stephanie\"] #example list"
   ]
  },
  {
   "cell_type": "code",
   "execution_count": 16,
   "metadata": {
    "scrolled": false
   },
   "outputs": [
    {
     "data": {
      "text/plain": [
       "'This list contains Sally & Stephanie.'"
      ]
     },
     "execution_count": 16,
     "metadata": {},
     "output_type": "execute_result"
    }
   ],
   "source": [
    "concatenate_names_naturally(xlist)"
   ]
  },
  {
   "cell_type": "code",
   "execution_count": 17,
   "metadata": {},
   "outputs": [],
   "source": [
    "xlist = [\"Sally\",\"Truman\",\"Jim\",\"Peggy\"] #example list"
   ]
  },
  {
   "cell_type": "code",
   "execution_count": 18,
   "metadata": {
    "scrolled": true
   },
   "outputs": [
    {
     "data": {
      "text/plain": [
       "'This list contains Sally, Truman, Jim, & Peggy.'"
      ]
     },
     "execution_count": 18,
     "metadata": {},
     "output_type": "execute_result"
    }
   ],
   "source": [
    "concatenate_names_naturally(xlist)"
   ]
  },
  {
   "cell_type": "code",
   "execution_count": 19,
   "metadata": {},
   "outputs": [],
   "source": [
    "xlist = [\"Sally\",\"Truman\",\"Jim\",\"Peggy\", \"Max\", \"Stephanie\"] #example list"
   ]
  },
  {
   "cell_type": "code",
   "execution_count": 20,
   "metadata": {
    "scrolled": false
   },
   "outputs": [
    {
     "data": {
      "text/plain": [
       "'This list contains Sally, Truman, Jim, Peggy, Max, & Stephanie.'"
      ]
     },
     "execution_count": 20,
     "metadata": {},
     "output_type": "execute_result"
    }
   ],
   "source": [
    "concatenate_names_naturally(xlist)"
   ]
  },
  {
   "cell_type": "markdown",
   "metadata": {},
   "source": [
    "___\n",
    "\n",
    "# 3."
   ]
  },
  {
   "cell_type": "markdown",
   "metadata": {},
   "source": [
    "\n",
    "A function to extract named entities from text.\n",
    "\n",
    "This extracts a list of unique people, named in a passage of text, using the NLTK package.  \n",
    "\n",
    "Notice, this creates 2 global variables that exist after the function is finished running. \n",
    "\n",
    "I set a baseline sentence as a default 'text', in case you don't have text to work with, yet."
   ]
  },
  {
   "cell_type": "code",
   "execution_count": 21,
   "metadata": {},
   "outputs": [],
   "source": [
    "import nltk as nltk"
   ]
  },
  {
   "cell_type": "code",
   "execution_count": 22,
   "metadata": {},
   "outputs": [],
   "source": [
    "def get_named_people(text=\"Simon and Nick are going to The Winchester Pub.\"):\n",
    "    \"\"\"Extract named entities which are people, using NLTK. Creates global variables.\"\"\"\n",
    "    \n",
    "    #specify which variables are to be created globally (vs locally):\n",
    "    global entities_w_labels_unique\n",
    "    global named_people\n",
    "    \n",
    "    print(\"Warning: Creates global variables, 'entities_w_labels_unique', 'named_people'; Rewrites if already exist.\")\n",
    "    \n",
    "    entities = []\n",
    "    labels = []\n",
    "\n",
    "    for sentence in nltk.sent_tokenize(text):\n",
    "        for chunk in nltk.ne_chunk(nltk.pos_tag(nltk.word_tokenize(sentence)), binary = False):\n",
    "            if hasattr(chunk, 'label'):\n",
    "                entities.append(' '.join(c[0] for c in chunk)) #Add space as between multi-token entities\n",
    "                labels.append(chunk.label()) \n",
    "\n",
    "    entities_w_labels = list(zip(entities, labels)) #match entities with their type label\n",
    "    entities_w_labels_unique = list(set(zip(entities, labels))) #keep only unique (non-duplicate) entities\n",
    "\n",
    "    named_people=[] \n",
    "    for i in range(len(entities_w_labels_unique)):\n",
    "              if entities_w_labels_unique[i][1] in ['PERSON']:\n",
    "                named_people.append(entities_w_labels_unique[i][0]) #Give only entities which are persons\n",
    "\n",
    "    return named_people"
   ]
  },
  {
   "cell_type": "markdown",
   "metadata": {},
   "source": [
    "Testing this:"
   ]
  },
  {
   "cell_type": "code",
   "execution_count": 23,
   "metadata": {
    "scrolled": true
   },
   "outputs": [
    {
     "name": "stdout",
     "output_type": "stream",
     "text": [
      "Warning: Creates global variables, 'entities_w_labels_unique', 'named_people'; Rewrites if already exist.\n"
     ]
    },
    {
     "data": {
      "text/plain": [
       "['Simon', 'Nick']"
      ]
     },
     "execution_count": 23,
     "metadata": {},
     "output_type": "execute_result"
    }
   ],
   "source": [
    "get_named_people() #analyzes baseline text"
   ]
  },
  {
   "cell_type": "code",
   "execution_count": 24,
   "metadata": {
    "scrolled": true
   },
   "outputs": [
    {
     "data": {
      "text/plain": [
       "[('Simon', 'PERSON'), ('Nick', 'PERSON'), ('Winchester Pub', 'ORGANIZATION')]"
      ]
     },
     "execution_count": 24,
     "metadata": {},
     "output_type": "execute_result"
    }
   ],
   "source": [
    "entities_w_labels_unique"
   ]
  },
  {
   "cell_type": "markdown",
   "metadata": {},
   "source": [
    "Testing this more:"
   ]
  },
  {
   "cell_type": "code",
   "execution_count": 25,
   "metadata": {},
   "outputs": [],
   "source": [
    "text = \"Yesterday Jim and Beth went to the store, but Microsoft's employment laws didn't apply in California.  \\\n",
    "Then, Xavier had an idea. Beth was right, Jim was from Texas.\""
   ]
  },
  {
   "cell_type": "code",
   "execution_count": 26,
   "metadata": {},
   "outputs": [
    {
     "name": "stdout",
     "output_type": "stream",
     "text": [
      "Warning: Creates global variables, 'entities_w_labels_unique', 'named_people'; Rewrites if already exist.\n"
     ]
    },
    {
     "data": {
      "text/plain": [
       "['Jim', 'Xavier', 'Microsoft', 'Beth']"
      ]
     },
     "execution_count": 26,
     "metadata": {},
     "output_type": "execute_result"
    }
   ],
   "source": [
    "get_named_people(text)"
   ]
  },
  {
   "cell_type": "code",
   "execution_count": 27,
   "metadata": {
    "scrolled": true
   },
   "outputs": [
    {
     "data": {
      "text/plain": [
       "[('Jim', 'PERSON'),\n",
       " ('Xavier', 'PERSON'),\n",
       " ('Texas', 'GPE'),\n",
       " ('Microsoft', 'PERSON'),\n",
       " ('California', 'GPE'),\n",
       " ('Beth', 'PERSON')]"
      ]
     },
     "execution_count": 27,
     "metadata": {},
     "output_type": "execute_result"
    }
   ],
   "source": [
    "entities_w_labels_unique"
   ]
  },
  {
   "cell_type": "code",
   "execution_count": 28,
   "metadata": {
    "scrolled": false
   },
   "outputs": [
    {
     "data": {
      "text/plain": [
       "['Jim', 'Xavier', 'Microsoft', 'Beth']"
      ]
     },
     "execution_count": 28,
     "metadata": {},
     "output_type": "execute_result"
    }
   ],
   "source": [
    "named_people"
   ]
  },
  {
   "cell_type": "markdown",
   "metadata": {},
   "source": [
    "Putting it altogether:"
   ]
  },
  {
   "cell_type": "code",
   "execution_count": 29,
   "metadata": {},
   "outputs": [
    {
     "name": "stdout",
     "output_type": "stream",
     "text": [
      "Warning: Creates global variables, 'entities_w_labels_unique', 'named_people'; Rewrites if already exist.\n"
     ]
    },
    {
     "data": {
      "text/plain": [
       "['Jim', 'Xavier', 'Microsoft', 'Beth']"
      ]
     },
     "execution_count": 29,
     "metadata": {},
     "output_type": "execute_result"
    }
   ],
   "source": [
    "get_named_people(text)"
   ]
  },
  {
   "cell_type": "code",
   "execution_count": 30,
   "metadata": {
    "scrolled": false
   },
   "outputs": [
    {
     "data": {
      "text/plain": [
       "'This list contains Jim, Xavier, Microsoft, & Beth.'"
      ]
     },
     "execution_count": 30,
     "metadata": {},
     "output_type": "execute_result"
    }
   ],
   "source": [
    "concatenate_names_naturally(named_people)"
   ]
  },
  {
   "cell_type": "markdown",
   "metadata": {},
   "source": [
    "Or, you could combine functions 2 and 3:"
   ]
  },
  {
   "cell_type": "code",
   "execution_count": 31,
   "metadata": {
    "scrolled": false
   },
   "outputs": [
    {
     "name": "stdout",
     "output_type": "stream",
     "text": [
      "Warning: Creates global variables, 'entities_w_labels_unique', 'named_people'; Rewrites if already exist.\n"
     ]
    },
    {
     "data": {
      "text/plain": [
       "'This list contains Jim, Xavier, Microsoft, & Beth.'"
      ]
     },
     "execution_count": 31,
     "metadata": {},
     "output_type": "execute_result"
    }
   ],
   "source": [
    "concatenate_names_naturally(get_named_people(text))"
   ]
  },
  {
   "cell_type": "markdown",
   "metadata": {},
   "source": [
    "___ \n",
    "\n",
    "[Back to Top Menu](#topmenu)  \n"
   ]
  },
  {
   "cell_type": "markdown",
   "metadata": {},
   "source": [
    "__Machine Information:__  _This workbook was run on_..."
   ]
  },
  {
   "cell_type": "code",
   "execution_count": 32,
   "metadata": {},
   "outputs": [
    {
     "name": "stdout",
     "output_type": "stream",
     "text": [
      "3.7.3 (default, Apr 24 2019, 15:29:51) [MSC v.1915 64 bit (AMD64)]\n"
     ]
    }
   ],
   "source": [
    "#Python Version:\n",
    "import sys\n",
    "print(sys.version)"
   ]
  },
  {
   "cell_type": "code",
   "execution_count": 33,
   "metadata": {},
   "outputs": [
    {
     "data": {
      "text/plain": [
       "'Sun, 05 April 2020 11:01:51'"
      ]
     },
     "execution_count": 33,
     "metadata": {},
     "output_type": "execute_result"
    }
   ],
   "source": [
    "#Timestamp:\n",
    "import datetime\n",
    "datetime.datetime.now().strftime(\"%a, %d %B %Y %H:%M:%S\")"
   ]
  },
  {
   "cell_type": "markdown",
   "metadata": {},
   "source": [
    "## The End.\n",
    "\n",
    "[Back to Top Menu](#topmenu)  \n"
   ]
  },
  {
   "cell_type": "markdown",
   "metadata": {},
   "source": [
    "\n",
    "_Sherman6,  2020 April_\n",
    "\n"
   ]
  }
 ],
 "metadata": {
  "kernelspec": {
   "display_name": "Python 3",
   "language": "python",
   "name": "python3"
  },
  "language_info": {
   "codemirror_mode": {
    "name": "ipython",
    "version": 3
   },
   "file_extension": ".py",
   "mimetype": "text/x-python",
   "name": "python",
   "nbconvert_exporter": "python",
   "pygments_lexer": "ipython3",
   "version": "3.7.3"
  }
 },
 "nbformat": 4,
 "nbformat_minor": 2
}
